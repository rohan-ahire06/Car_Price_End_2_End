{
  "nbformat": 4,
  "nbformat_minor": 0,
  "metadata": {
    "colab": {
      "name": "Car-P_&2&.ipynb",
      "provenance": [],
      "toc_visible": true
    },
    "kernelspec": {
      "name": "python3",
      "display_name": "Python 3"
    },
    "language_info": {
      "name": "python"
    }
  },
  "cells": [
    {
      "cell_type": "code",
      "metadata": {
        "id": "silMGa8h0Xn2"
      },
      "source": [
        "import numpy as np\n",
        "import pandas as pd\n",
        "import matplotlib.pyplot as plt\n",
        "import seaborn as sns\n",
        "\n",
        "%matplotlib inline"
      ],
      "execution_count": 1,
      "outputs": []
    },
    {
      "cell_type": "code",
      "metadata": {
        "colab": {
          "base_uri": "https://localhost:8080/",
          "height": 195
        },
        "id": "H3XF0XE53wCy",
        "outputId": "d681bede-2b52-4f8b-a400-26bfb84a4cef"
      },
      "source": [
        "data = pd.read_csv(\"CAR DETAILS FROM CAR DEKHO.csv\")\n",
        "data.head()"
      ],
      "execution_count": 3,
      "outputs": [
        {
          "output_type": "execute_result",
          "data": {
            "text/html": [
              "<div>\n",
              "<style scoped>\n",
              "    .dataframe tbody tr th:only-of-type {\n",
              "        vertical-align: middle;\n",
              "    }\n",
              "\n",
              "    .dataframe tbody tr th {\n",
              "        vertical-align: top;\n",
              "    }\n",
              "\n",
              "    .dataframe thead th {\n",
              "        text-align: right;\n",
              "    }\n",
              "</style>\n",
              "<table border=\"1\" class=\"dataframe\">\n",
              "  <thead>\n",
              "    <tr style=\"text-align: right;\">\n",
              "      <th></th>\n",
              "      <th>name</th>\n",
              "      <th>year</th>\n",
              "      <th>selling_price</th>\n",
              "      <th>km_driven</th>\n",
              "      <th>fuel</th>\n",
              "      <th>seller_type</th>\n",
              "      <th>transmission</th>\n",
              "      <th>owner</th>\n",
              "    </tr>\n",
              "  </thead>\n",
              "  <tbody>\n",
              "    <tr>\n",
              "      <th>0</th>\n",
              "      <td>Maruti 800 AC</td>\n",
              "      <td>2007</td>\n",
              "      <td>60000</td>\n",
              "      <td>70000</td>\n",
              "      <td>Petrol</td>\n",
              "      <td>Individual</td>\n",
              "      <td>Manual</td>\n",
              "      <td>First Owner</td>\n",
              "    </tr>\n",
              "    <tr>\n",
              "      <th>1</th>\n",
              "      <td>Maruti Wagon R LXI Minor</td>\n",
              "      <td>2007</td>\n",
              "      <td>135000</td>\n",
              "      <td>50000</td>\n",
              "      <td>Petrol</td>\n",
              "      <td>Individual</td>\n",
              "      <td>Manual</td>\n",
              "      <td>First Owner</td>\n",
              "    </tr>\n",
              "    <tr>\n",
              "      <th>2</th>\n",
              "      <td>Hyundai Verna 1.6 SX</td>\n",
              "      <td>2012</td>\n",
              "      <td>600000</td>\n",
              "      <td>100000</td>\n",
              "      <td>Diesel</td>\n",
              "      <td>Individual</td>\n",
              "      <td>Manual</td>\n",
              "      <td>First Owner</td>\n",
              "    </tr>\n",
              "    <tr>\n",
              "      <th>3</th>\n",
              "      <td>Datsun RediGO T Option</td>\n",
              "      <td>2017</td>\n",
              "      <td>250000</td>\n",
              "      <td>46000</td>\n",
              "      <td>Petrol</td>\n",
              "      <td>Individual</td>\n",
              "      <td>Manual</td>\n",
              "      <td>First Owner</td>\n",
              "    </tr>\n",
              "    <tr>\n",
              "      <th>4</th>\n",
              "      <td>Honda Amaze VX i-DTEC</td>\n",
              "      <td>2014</td>\n",
              "      <td>450000</td>\n",
              "      <td>141000</td>\n",
              "      <td>Diesel</td>\n",
              "      <td>Individual</td>\n",
              "      <td>Manual</td>\n",
              "      <td>Second Owner</td>\n",
              "    </tr>\n",
              "  </tbody>\n",
              "</table>\n",
              "</div>"
            ],
            "text/plain": [
              "                       name  year  ...  transmission         owner\n",
              "0             Maruti 800 AC  2007  ...        Manual   First Owner\n",
              "1  Maruti Wagon R LXI Minor  2007  ...        Manual   First Owner\n",
              "2      Hyundai Verna 1.6 SX  2012  ...        Manual   First Owner\n",
              "3    Datsun RediGO T Option  2017  ...        Manual   First Owner\n",
              "4     Honda Amaze VX i-DTEC  2014  ...        Manual  Second Owner\n",
              "\n",
              "[5 rows x 8 columns]"
            ]
          },
          "metadata": {
            "tags": []
          },
          "execution_count": 3
        }
      ]
    },
    {
      "cell_type": "code",
      "metadata": {
        "colab": {
          "base_uri": "https://localhost:8080/"
        },
        "id": "aQboodKy7Q1M",
        "outputId": "3d231c28-e113-4ad3-8e6d-33f3fa1747af"
      },
      "source": [
        "data.isnull().sum()"
      ],
      "execution_count": 5,
      "outputs": [
        {
          "output_type": "execute_result",
          "data": {
            "text/plain": [
              "name             0\n",
              "year             0\n",
              "selling_price    0\n",
              "km_driven        0\n",
              "fuel             0\n",
              "seller_type      0\n",
              "transmission     0\n",
              "owner            0\n",
              "dtype: int64"
            ]
          },
          "metadata": {
            "tags": []
          },
          "execution_count": 5
        }
      ]
    },
    {
      "cell_type": "code",
      "metadata": {
        "colab": {
          "base_uri": "https://localhost:8080/",
          "height": 136
        },
        "id": "8I89QIHT8Lkc",
        "outputId": "076ff826-70b0-418c-b2bc-c191a57325cf"
      },
      "source": [
        "data.corr()"
      ],
      "execution_count": 6,
      "outputs": [
        {
          "output_type": "execute_result",
          "data": {
            "text/html": [
              "<div>\n",
              "<style scoped>\n",
              "    .dataframe tbody tr th:only-of-type {\n",
              "        vertical-align: middle;\n",
              "    }\n",
              "\n",
              "    .dataframe tbody tr th {\n",
              "        vertical-align: top;\n",
              "    }\n",
              "\n",
              "    .dataframe thead th {\n",
              "        text-align: right;\n",
              "    }\n",
              "</style>\n",
              "<table border=\"1\" class=\"dataframe\">\n",
              "  <thead>\n",
              "    <tr style=\"text-align: right;\">\n",
              "      <th></th>\n",
              "      <th>year</th>\n",
              "      <th>selling_price</th>\n",
              "      <th>km_driven</th>\n",
              "    </tr>\n",
              "  </thead>\n",
              "  <tbody>\n",
              "    <tr>\n",
              "      <th>year</th>\n",
              "      <td>1.000000</td>\n",
              "      <td>0.413922</td>\n",
              "      <td>-0.419688</td>\n",
              "    </tr>\n",
              "    <tr>\n",
              "      <th>selling_price</th>\n",
              "      <td>0.413922</td>\n",
              "      <td>1.000000</td>\n",
              "      <td>-0.192289</td>\n",
              "    </tr>\n",
              "    <tr>\n",
              "      <th>km_driven</th>\n",
              "      <td>-0.419688</td>\n",
              "      <td>-0.192289</td>\n",
              "      <td>1.000000</td>\n",
              "    </tr>\n",
              "  </tbody>\n",
              "</table>\n",
              "</div>"
            ],
            "text/plain": [
              "                   year  selling_price  km_driven\n",
              "year           1.000000       0.413922  -0.419688\n",
              "selling_price  0.413922       1.000000  -0.192289\n",
              "km_driven     -0.419688      -0.192289   1.000000"
            ]
          },
          "metadata": {
            "tags": []
          },
          "execution_count": 6
        }
      ]
    },
    {
      "cell_type": "code",
      "metadata": {
        "colab": {
          "base_uri": "https://localhost:8080/",
          "height": 284
        },
        "id": "MU7OOmnP8OuS",
        "outputId": "24a44a52-a07d-4d1c-8e52-2aa5bd442a13"
      },
      "source": [
        "data.describe()"
      ],
      "execution_count": 7,
      "outputs": [
        {
          "output_type": "execute_result",
          "data": {
            "text/html": [
              "<div>\n",
              "<style scoped>\n",
              "    .dataframe tbody tr th:only-of-type {\n",
              "        vertical-align: middle;\n",
              "    }\n",
              "\n",
              "    .dataframe tbody tr th {\n",
              "        vertical-align: top;\n",
              "    }\n",
              "\n",
              "    .dataframe thead th {\n",
              "        text-align: right;\n",
              "    }\n",
              "</style>\n",
              "<table border=\"1\" class=\"dataframe\">\n",
              "  <thead>\n",
              "    <tr style=\"text-align: right;\">\n",
              "      <th></th>\n",
              "      <th>year</th>\n",
              "      <th>selling_price</th>\n",
              "      <th>km_driven</th>\n",
              "    </tr>\n",
              "  </thead>\n",
              "  <tbody>\n",
              "    <tr>\n",
              "      <th>count</th>\n",
              "      <td>4340.000000</td>\n",
              "      <td>4.340000e+03</td>\n",
              "      <td>4340.000000</td>\n",
              "    </tr>\n",
              "    <tr>\n",
              "      <th>mean</th>\n",
              "      <td>2013.090783</td>\n",
              "      <td>5.041273e+05</td>\n",
              "      <td>66215.777419</td>\n",
              "    </tr>\n",
              "    <tr>\n",
              "      <th>std</th>\n",
              "      <td>4.215344</td>\n",
              "      <td>5.785487e+05</td>\n",
              "      <td>46644.102194</td>\n",
              "    </tr>\n",
              "    <tr>\n",
              "      <th>min</th>\n",
              "      <td>1992.000000</td>\n",
              "      <td>2.000000e+04</td>\n",
              "      <td>1.000000</td>\n",
              "    </tr>\n",
              "    <tr>\n",
              "      <th>25%</th>\n",
              "      <td>2011.000000</td>\n",
              "      <td>2.087498e+05</td>\n",
              "      <td>35000.000000</td>\n",
              "    </tr>\n",
              "    <tr>\n",
              "      <th>50%</th>\n",
              "      <td>2014.000000</td>\n",
              "      <td>3.500000e+05</td>\n",
              "      <td>60000.000000</td>\n",
              "    </tr>\n",
              "    <tr>\n",
              "      <th>75%</th>\n",
              "      <td>2016.000000</td>\n",
              "      <td>6.000000e+05</td>\n",
              "      <td>90000.000000</td>\n",
              "    </tr>\n",
              "    <tr>\n",
              "      <th>max</th>\n",
              "      <td>2020.000000</td>\n",
              "      <td>8.900000e+06</td>\n",
              "      <td>806599.000000</td>\n",
              "    </tr>\n",
              "  </tbody>\n",
              "</table>\n",
              "</div>"
            ],
            "text/plain": [
              "              year  selling_price      km_driven\n",
              "count  4340.000000   4.340000e+03    4340.000000\n",
              "mean   2013.090783   5.041273e+05   66215.777419\n",
              "std       4.215344   5.785487e+05   46644.102194\n",
              "min    1992.000000   2.000000e+04       1.000000\n",
              "25%    2011.000000   2.087498e+05   35000.000000\n",
              "50%    2014.000000   3.500000e+05   60000.000000\n",
              "75%    2016.000000   6.000000e+05   90000.000000\n",
              "max    2020.000000   8.900000e+06  806599.000000"
            ]
          },
          "metadata": {
            "tags": []
          },
          "execution_count": 7
        }
      ]
    },
    {
      "cell_type": "code",
      "metadata": {
        "colab": {
          "base_uri": "https://localhost:8080/",
          "height": 195
        },
        "id": "MXWo8B5v-o23",
        "outputId": "19378c20-24c6-4aeb-e9f1-0a1727e9c071"
      },
      "source": [
        "data.head()"
      ],
      "execution_count": 8,
      "outputs": [
        {
          "output_type": "execute_result",
          "data": {
            "text/html": [
              "<div>\n",
              "<style scoped>\n",
              "    .dataframe tbody tr th:only-of-type {\n",
              "        vertical-align: middle;\n",
              "    }\n",
              "\n",
              "    .dataframe tbody tr th {\n",
              "        vertical-align: top;\n",
              "    }\n",
              "\n",
              "    .dataframe thead th {\n",
              "        text-align: right;\n",
              "    }\n",
              "</style>\n",
              "<table border=\"1\" class=\"dataframe\">\n",
              "  <thead>\n",
              "    <tr style=\"text-align: right;\">\n",
              "      <th></th>\n",
              "      <th>name</th>\n",
              "      <th>year</th>\n",
              "      <th>selling_price</th>\n",
              "      <th>km_driven</th>\n",
              "      <th>fuel</th>\n",
              "      <th>seller_type</th>\n",
              "      <th>transmission</th>\n",
              "      <th>owner</th>\n",
              "    </tr>\n",
              "  </thead>\n",
              "  <tbody>\n",
              "    <tr>\n",
              "      <th>0</th>\n",
              "      <td>Maruti 800 AC</td>\n",
              "      <td>2007</td>\n",
              "      <td>60000</td>\n",
              "      <td>70000</td>\n",
              "      <td>Petrol</td>\n",
              "      <td>Individual</td>\n",
              "      <td>Manual</td>\n",
              "      <td>First Owner</td>\n",
              "    </tr>\n",
              "    <tr>\n",
              "      <th>1</th>\n",
              "      <td>Maruti Wagon R LXI Minor</td>\n",
              "      <td>2007</td>\n",
              "      <td>135000</td>\n",
              "      <td>50000</td>\n",
              "      <td>Petrol</td>\n",
              "      <td>Individual</td>\n",
              "      <td>Manual</td>\n",
              "      <td>First Owner</td>\n",
              "    </tr>\n",
              "    <tr>\n",
              "      <th>2</th>\n",
              "      <td>Hyundai Verna 1.6 SX</td>\n",
              "      <td>2012</td>\n",
              "      <td>600000</td>\n",
              "      <td>100000</td>\n",
              "      <td>Diesel</td>\n",
              "      <td>Individual</td>\n",
              "      <td>Manual</td>\n",
              "      <td>First Owner</td>\n",
              "    </tr>\n",
              "    <tr>\n",
              "      <th>3</th>\n",
              "      <td>Datsun RediGO T Option</td>\n",
              "      <td>2017</td>\n",
              "      <td>250000</td>\n",
              "      <td>46000</td>\n",
              "      <td>Petrol</td>\n",
              "      <td>Individual</td>\n",
              "      <td>Manual</td>\n",
              "      <td>First Owner</td>\n",
              "    </tr>\n",
              "    <tr>\n",
              "      <th>4</th>\n",
              "      <td>Honda Amaze VX i-DTEC</td>\n",
              "      <td>2014</td>\n",
              "      <td>450000</td>\n",
              "      <td>141000</td>\n",
              "      <td>Diesel</td>\n",
              "      <td>Individual</td>\n",
              "      <td>Manual</td>\n",
              "      <td>Second Owner</td>\n",
              "    </tr>\n",
              "  </tbody>\n",
              "</table>\n",
              "</div>"
            ],
            "text/plain": [
              "                       name  year  ...  transmission         owner\n",
              "0             Maruti 800 AC  2007  ...        Manual   First Owner\n",
              "1  Maruti Wagon R LXI Minor  2007  ...        Manual   First Owner\n",
              "2      Hyundai Verna 1.6 SX  2012  ...        Manual   First Owner\n",
              "3    Datsun RediGO T Option  2017  ...        Manual   First Owner\n",
              "4     Honda Amaze VX i-DTEC  2014  ...        Manual  Second Owner\n",
              "\n",
              "[5 rows x 8 columns]"
            ]
          },
          "metadata": {
            "tags": []
          },
          "execution_count": 8
        }
      ]
    },
    {
      "cell_type": "code",
      "metadata": {
        "id": "EFr0prVO-sHX"
      },
      "source": [
        "data.drop('name', axis='columns', inplace=True )"
      ],
      "execution_count": 11,
      "outputs": []
    },
    {
      "cell_type": "code",
      "metadata": {
        "colab": {
          "base_uri": "https://localhost:8080/"
        },
        "id": "mm8iG0k-_oP9",
        "outputId": "8678b668-16a0-418d-cfd6-4eb9de4d4d2a"
      },
      "source": [
        "data.shape"
      ],
      "execution_count": 12,
      "outputs": [
        {
          "output_type": "execute_result",
          "data": {
            "text/plain": [
              "(4340, 7)"
            ]
          },
          "metadata": {
            "tags": []
          },
          "execution_count": 12
        }
      ]
    },
    {
      "cell_type": "code",
      "metadata": {
        "colab": {
          "base_uri": "https://localhost:8080/",
          "height": 195
        },
        "id": "i-Y8Oy90_wRq",
        "outputId": "38efb9d1-2fb7-4ba6-f19a-5afd9c28676f"
      },
      "source": [
        "data.head()"
      ],
      "execution_count": 13,
      "outputs": [
        {
          "output_type": "execute_result",
          "data": {
            "text/html": [
              "<div>\n",
              "<style scoped>\n",
              "    .dataframe tbody tr th:only-of-type {\n",
              "        vertical-align: middle;\n",
              "    }\n",
              "\n",
              "    .dataframe tbody tr th {\n",
              "        vertical-align: top;\n",
              "    }\n",
              "\n",
              "    .dataframe thead th {\n",
              "        text-align: right;\n",
              "    }\n",
              "</style>\n",
              "<table border=\"1\" class=\"dataframe\">\n",
              "  <thead>\n",
              "    <tr style=\"text-align: right;\">\n",
              "      <th></th>\n",
              "      <th>year</th>\n",
              "      <th>selling_price</th>\n",
              "      <th>km_driven</th>\n",
              "      <th>fuel</th>\n",
              "      <th>seller_type</th>\n",
              "      <th>transmission</th>\n",
              "      <th>owner</th>\n",
              "    </tr>\n",
              "  </thead>\n",
              "  <tbody>\n",
              "    <tr>\n",
              "      <th>0</th>\n",
              "      <td>2007</td>\n",
              "      <td>60000</td>\n",
              "      <td>70000</td>\n",
              "      <td>Petrol</td>\n",
              "      <td>Individual</td>\n",
              "      <td>Manual</td>\n",
              "      <td>First Owner</td>\n",
              "    </tr>\n",
              "    <tr>\n",
              "      <th>1</th>\n",
              "      <td>2007</td>\n",
              "      <td>135000</td>\n",
              "      <td>50000</td>\n",
              "      <td>Petrol</td>\n",
              "      <td>Individual</td>\n",
              "      <td>Manual</td>\n",
              "      <td>First Owner</td>\n",
              "    </tr>\n",
              "    <tr>\n",
              "      <th>2</th>\n",
              "      <td>2012</td>\n",
              "      <td>600000</td>\n",
              "      <td>100000</td>\n",
              "      <td>Diesel</td>\n",
              "      <td>Individual</td>\n",
              "      <td>Manual</td>\n",
              "      <td>First Owner</td>\n",
              "    </tr>\n",
              "    <tr>\n",
              "      <th>3</th>\n",
              "      <td>2017</td>\n",
              "      <td>250000</td>\n",
              "      <td>46000</td>\n",
              "      <td>Petrol</td>\n",
              "      <td>Individual</td>\n",
              "      <td>Manual</td>\n",
              "      <td>First Owner</td>\n",
              "    </tr>\n",
              "    <tr>\n",
              "      <th>4</th>\n",
              "      <td>2014</td>\n",
              "      <td>450000</td>\n",
              "      <td>141000</td>\n",
              "      <td>Diesel</td>\n",
              "      <td>Individual</td>\n",
              "      <td>Manual</td>\n",
              "      <td>Second Owner</td>\n",
              "    </tr>\n",
              "  </tbody>\n",
              "</table>\n",
              "</div>"
            ],
            "text/plain": [
              "   year  selling_price  km_driven  ... seller_type transmission         owner\n",
              "0  2007          60000      70000  ...  Individual       Manual   First Owner\n",
              "1  2007         135000      50000  ...  Individual       Manual   First Owner\n",
              "2  2012         600000     100000  ...  Individual       Manual   First Owner\n",
              "3  2017         250000      46000  ...  Individual       Manual   First Owner\n",
              "4  2014         450000     141000  ...  Individual       Manual  Second Owner\n",
              "\n",
              "[5 rows x 7 columns]"
            ]
          },
          "metadata": {
            "tags": []
          },
          "execution_count": 13
        }
      ]
    },
    {
      "cell_type": "code",
      "metadata": {
        "id": "10s-GZ3v_2Ko"
      },
      "source": [
        "data['current_year'] = 2021"
      ],
      "execution_count": 14,
      "outputs": []
    },
    {
      "cell_type": "code",
      "metadata": {
        "colab": {
          "base_uri": "https://localhost:8080/",
          "height": 195
        },
        "id": "d1O4ca4EAqa6",
        "outputId": "bc847bb2-6acc-4a0f-ad0c-41f025110834"
      },
      "source": [
        "data['yrs_old'] = data['current_year'] - data['year']\n",
        "data.drop(['current_year','year'] , axis=1 , inplace=True)\n",
        "data.head()"
      ],
      "execution_count": 15,
      "outputs": [
        {
          "output_type": "execute_result",
          "data": {
            "text/html": [
              "<div>\n",
              "<style scoped>\n",
              "    .dataframe tbody tr th:only-of-type {\n",
              "        vertical-align: middle;\n",
              "    }\n",
              "\n",
              "    .dataframe tbody tr th {\n",
              "        vertical-align: top;\n",
              "    }\n",
              "\n",
              "    .dataframe thead th {\n",
              "        text-align: right;\n",
              "    }\n",
              "</style>\n",
              "<table border=\"1\" class=\"dataframe\">\n",
              "  <thead>\n",
              "    <tr style=\"text-align: right;\">\n",
              "      <th></th>\n",
              "      <th>selling_price</th>\n",
              "      <th>km_driven</th>\n",
              "      <th>fuel</th>\n",
              "      <th>seller_type</th>\n",
              "      <th>transmission</th>\n",
              "      <th>owner</th>\n",
              "      <th>yrs_old</th>\n",
              "    </tr>\n",
              "  </thead>\n",
              "  <tbody>\n",
              "    <tr>\n",
              "      <th>0</th>\n",
              "      <td>60000</td>\n",
              "      <td>70000</td>\n",
              "      <td>Petrol</td>\n",
              "      <td>Individual</td>\n",
              "      <td>Manual</td>\n",
              "      <td>First Owner</td>\n",
              "      <td>14</td>\n",
              "    </tr>\n",
              "    <tr>\n",
              "      <th>1</th>\n",
              "      <td>135000</td>\n",
              "      <td>50000</td>\n",
              "      <td>Petrol</td>\n",
              "      <td>Individual</td>\n",
              "      <td>Manual</td>\n",
              "      <td>First Owner</td>\n",
              "      <td>14</td>\n",
              "    </tr>\n",
              "    <tr>\n",
              "      <th>2</th>\n",
              "      <td>600000</td>\n",
              "      <td>100000</td>\n",
              "      <td>Diesel</td>\n",
              "      <td>Individual</td>\n",
              "      <td>Manual</td>\n",
              "      <td>First Owner</td>\n",
              "      <td>9</td>\n",
              "    </tr>\n",
              "    <tr>\n",
              "      <th>3</th>\n",
              "      <td>250000</td>\n",
              "      <td>46000</td>\n",
              "      <td>Petrol</td>\n",
              "      <td>Individual</td>\n",
              "      <td>Manual</td>\n",
              "      <td>First Owner</td>\n",
              "      <td>4</td>\n",
              "    </tr>\n",
              "    <tr>\n",
              "      <th>4</th>\n",
              "      <td>450000</td>\n",
              "      <td>141000</td>\n",
              "      <td>Diesel</td>\n",
              "      <td>Individual</td>\n",
              "      <td>Manual</td>\n",
              "      <td>Second Owner</td>\n",
              "      <td>7</td>\n",
              "    </tr>\n",
              "  </tbody>\n",
              "</table>\n",
              "</div>"
            ],
            "text/plain": [
              "   selling_price  km_driven    fuel  ... transmission         owner yrs_old\n",
              "0          60000      70000  Petrol  ...       Manual   First Owner      14\n",
              "1         135000      50000  Petrol  ...       Manual   First Owner      14\n",
              "2         600000     100000  Diesel  ...       Manual   First Owner       9\n",
              "3         250000      46000  Petrol  ...       Manual   First Owner       4\n",
              "4         450000     141000  Diesel  ...       Manual  Second Owner       7\n",
              "\n",
              "[5 rows x 7 columns]"
            ]
          },
          "metadata": {
            "tags": []
          },
          "execution_count": 15
        }
      ]
    },
    {
      "cell_type": "code",
      "metadata": {
        "colab": {
          "base_uri": "https://localhost:8080/",
          "height": 195
        },
        "id": "unKOFnT3BVhm",
        "outputId": "912d553f-4319-449b-b65c-770469662790"
      },
      "source": [
        "from sklearn.preprocessing import LabelEncoder\n",
        "le = LabelEncoder()\n",
        "data['fuel'] = le.fit_transform(data['fuel'])\n",
        "data.head()"
      ],
      "execution_count": 21,
      "outputs": [
        {
          "output_type": "execute_result",
          "data": {
            "text/html": [
              "<div>\n",
              "<style scoped>\n",
              "    .dataframe tbody tr th:only-of-type {\n",
              "        vertical-align: middle;\n",
              "    }\n",
              "\n",
              "    .dataframe tbody tr th {\n",
              "        vertical-align: top;\n",
              "    }\n",
              "\n",
              "    .dataframe thead th {\n",
              "        text-align: right;\n",
              "    }\n",
              "</style>\n",
              "<table border=\"1\" class=\"dataframe\">\n",
              "  <thead>\n",
              "    <tr style=\"text-align: right;\">\n",
              "      <th></th>\n",
              "      <th>selling_price</th>\n",
              "      <th>km_driven</th>\n",
              "      <th>fuel</th>\n",
              "      <th>seller_type</th>\n",
              "      <th>transmission</th>\n",
              "      <th>owner</th>\n",
              "      <th>yrs_old</th>\n",
              "    </tr>\n",
              "  </thead>\n",
              "  <tbody>\n",
              "    <tr>\n",
              "      <th>0</th>\n",
              "      <td>60000</td>\n",
              "      <td>70000</td>\n",
              "      <td>4</td>\n",
              "      <td>Individual</td>\n",
              "      <td>Manual</td>\n",
              "      <td>First Owner</td>\n",
              "      <td>14</td>\n",
              "    </tr>\n",
              "    <tr>\n",
              "      <th>1</th>\n",
              "      <td>135000</td>\n",
              "      <td>50000</td>\n",
              "      <td>4</td>\n",
              "      <td>Individual</td>\n",
              "      <td>Manual</td>\n",
              "      <td>First Owner</td>\n",
              "      <td>14</td>\n",
              "    </tr>\n",
              "    <tr>\n",
              "      <th>2</th>\n",
              "      <td>600000</td>\n",
              "      <td>100000</td>\n",
              "      <td>1</td>\n",
              "      <td>Individual</td>\n",
              "      <td>Manual</td>\n",
              "      <td>First Owner</td>\n",
              "      <td>9</td>\n",
              "    </tr>\n",
              "    <tr>\n",
              "      <th>3</th>\n",
              "      <td>250000</td>\n",
              "      <td>46000</td>\n",
              "      <td>4</td>\n",
              "      <td>Individual</td>\n",
              "      <td>Manual</td>\n",
              "      <td>First Owner</td>\n",
              "      <td>4</td>\n",
              "    </tr>\n",
              "    <tr>\n",
              "      <th>4</th>\n",
              "      <td>450000</td>\n",
              "      <td>141000</td>\n",
              "      <td>1</td>\n",
              "      <td>Individual</td>\n",
              "      <td>Manual</td>\n",
              "      <td>Second Owner</td>\n",
              "      <td>7</td>\n",
              "    </tr>\n",
              "  </tbody>\n",
              "</table>\n",
              "</div>"
            ],
            "text/plain": [
              "   selling_price  km_driven  fuel  ... transmission         owner yrs_old\n",
              "0          60000      70000     4  ...       Manual   First Owner      14\n",
              "1         135000      50000     4  ...       Manual   First Owner      14\n",
              "2         600000     100000     1  ...       Manual   First Owner       9\n",
              "3         250000      46000     4  ...       Manual   First Owner       4\n",
              "4         450000     141000     1  ...       Manual  Second Owner       7\n",
              "\n",
              "[5 rows x 7 columns]"
            ]
          },
          "metadata": {
            "tags": []
          },
          "execution_count": 21
        }
      ]
    },
    {
      "cell_type": "code",
      "metadata": {
        "colab": {
          "base_uri": "https://localhost:8080/",
          "height": 249
        },
        "id": "-6aV7c62Chbx",
        "outputId": "c33db727-1a2c-42c8-ec3e-f78ca4642ecf"
      },
      "source": [
        "data = pd.get_dummies(data, drop_first=True)\n",
        "data.head()"
      ],
      "execution_count": 22,
      "outputs": [
        {
          "output_type": "execute_result",
          "data": {
            "text/html": [
              "<div>\n",
              "<style scoped>\n",
              "    .dataframe tbody tr th:only-of-type {\n",
              "        vertical-align: middle;\n",
              "    }\n",
              "\n",
              "    .dataframe tbody tr th {\n",
              "        vertical-align: top;\n",
              "    }\n",
              "\n",
              "    .dataframe thead th {\n",
              "        text-align: right;\n",
              "    }\n",
              "</style>\n",
              "<table border=\"1\" class=\"dataframe\">\n",
              "  <thead>\n",
              "    <tr style=\"text-align: right;\">\n",
              "      <th></th>\n",
              "      <th>selling_price</th>\n",
              "      <th>km_driven</th>\n",
              "      <th>fuel</th>\n",
              "      <th>yrs_old</th>\n",
              "      <th>seller_type_Individual</th>\n",
              "      <th>seller_type_Trustmark Dealer</th>\n",
              "      <th>transmission_Manual</th>\n",
              "      <th>owner_Fourth &amp; Above Owner</th>\n",
              "      <th>owner_Second Owner</th>\n",
              "      <th>owner_Test Drive Car</th>\n",
              "      <th>owner_Third Owner</th>\n",
              "    </tr>\n",
              "  </thead>\n",
              "  <tbody>\n",
              "    <tr>\n",
              "      <th>0</th>\n",
              "      <td>60000</td>\n",
              "      <td>70000</td>\n",
              "      <td>4</td>\n",
              "      <td>14</td>\n",
              "      <td>1</td>\n",
              "      <td>0</td>\n",
              "      <td>1</td>\n",
              "      <td>0</td>\n",
              "      <td>0</td>\n",
              "      <td>0</td>\n",
              "      <td>0</td>\n",
              "    </tr>\n",
              "    <tr>\n",
              "      <th>1</th>\n",
              "      <td>135000</td>\n",
              "      <td>50000</td>\n",
              "      <td>4</td>\n",
              "      <td>14</td>\n",
              "      <td>1</td>\n",
              "      <td>0</td>\n",
              "      <td>1</td>\n",
              "      <td>0</td>\n",
              "      <td>0</td>\n",
              "      <td>0</td>\n",
              "      <td>0</td>\n",
              "    </tr>\n",
              "    <tr>\n",
              "      <th>2</th>\n",
              "      <td>600000</td>\n",
              "      <td>100000</td>\n",
              "      <td>1</td>\n",
              "      <td>9</td>\n",
              "      <td>1</td>\n",
              "      <td>0</td>\n",
              "      <td>1</td>\n",
              "      <td>0</td>\n",
              "      <td>0</td>\n",
              "      <td>0</td>\n",
              "      <td>0</td>\n",
              "    </tr>\n",
              "    <tr>\n",
              "      <th>3</th>\n",
              "      <td>250000</td>\n",
              "      <td>46000</td>\n",
              "      <td>4</td>\n",
              "      <td>4</td>\n",
              "      <td>1</td>\n",
              "      <td>0</td>\n",
              "      <td>1</td>\n",
              "      <td>0</td>\n",
              "      <td>0</td>\n",
              "      <td>0</td>\n",
              "      <td>0</td>\n",
              "    </tr>\n",
              "    <tr>\n",
              "      <th>4</th>\n",
              "      <td>450000</td>\n",
              "      <td>141000</td>\n",
              "      <td>1</td>\n",
              "      <td>7</td>\n",
              "      <td>1</td>\n",
              "      <td>0</td>\n",
              "      <td>1</td>\n",
              "      <td>0</td>\n",
              "      <td>1</td>\n",
              "      <td>0</td>\n",
              "      <td>0</td>\n",
              "    </tr>\n",
              "  </tbody>\n",
              "</table>\n",
              "</div>"
            ],
            "text/plain": [
              "   selling_price  km_driven  ...  owner_Test Drive Car  owner_Third Owner\n",
              "0          60000      70000  ...                     0                  0\n",
              "1         135000      50000  ...                     0                  0\n",
              "2         600000     100000  ...                     0                  0\n",
              "3         250000      46000  ...                     0                  0\n",
              "4         450000     141000  ...                     0                  0\n",
              "\n",
              "[5 rows x 11 columns]"
            ]
          },
          "metadata": {
            "tags": []
          },
          "execution_count": 22
        }
      ]
    },
    {
      "cell_type": "code",
      "metadata": {
        "colab": {
          "base_uri": "https://localhost:8080/"
        },
        "id": "13WDyXnLDqsq",
        "outputId": "11874f7d-0295-481f-f7bd-71b72ffd6c66"
      },
      "source": [
        "data['fuel'].unique()"
      ],
      "execution_count": 23,
      "outputs": [
        {
          "output_type": "execute_result",
          "data": {
            "text/plain": [
              "array([4, 1, 0, 3, 2])"
            ]
          },
          "metadata": {
            "tags": []
          },
          "execution_count": 23
        }
      ]
    },
    {
      "cell_type": "code",
      "metadata": {
        "id": "thR4JicQD0hO"
      },
      "source": [
        "X = data.drop('selling_price' , axis=1)\n",
        "y = data['selling_price']"
      ],
      "execution_count": 24,
      "outputs": []
    },
    {
      "cell_type": "code",
      "metadata": {
        "colab": {
          "base_uri": "https://localhost:8080/"
        },
        "id": "CgLZOrnxKAhi",
        "outputId": "8b37876b-cf4d-4501-bf98-29cf832e3a65"
      },
      "source": [
        "from sklearn.ensemble import ExtraTreesRegressor\n",
        "model = ExtraTreesRegressor()\n",
        "model.fit(X,y)"
      ],
      "execution_count": 25,
      "outputs": [
        {
          "output_type": "execute_result",
          "data": {
            "text/plain": [
              "ExtraTreesRegressor(bootstrap=False, ccp_alpha=0.0, criterion='mse',\n",
              "                    max_depth=None, max_features='auto', max_leaf_nodes=None,\n",
              "                    max_samples=None, min_impurity_decrease=0.0,\n",
              "                    min_impurity_split=None, min_samples_leaf=1,\n",
              "                    min_samples_split=2, min_weight_fraction_leaf=0.0,\n",
              "                    n_estimators=100, n_jobs=None, oob_score=False,\n",
              "                    random_state=None, verbose=0, warm_start=False)"
            ]
          },
          "metadata": {
            "tags": []
          },
          "execution_count": 25
        }
      ]
    },
    {
      "cell_type": "code",
      "metadata": {
        "colab": {
          "base_uri": "https://localhost:8080/"
        },
        "id": "man2bjj0KFsG",
        "outputId": "f34035d4-6fde-45f0-bcb3-e7ecbca9a09b"
      },
      "source": [
        "print(model.feature_importances_)"
      ],
      "execution_count": 26,
      "outputs": [
        {
          "output_type": "stream",
          "text": [
            "[0.24863394 0.12998089 0.2422882  0.04672304 0.00867538 0.29282869\n",
            " 0.00085601 0.02410886 0.00139645 0.00450852]\n"
          ],
          "name": "stdout"
        }
      ]
    },
    {
      "cell_type": "code",
      "metadata": {
        "colab": {
          "base_uri": "https://localhost:8080/",
          "height": 265
        },
        "id": "w_icYX6cKJDQ",
        "outputId": "71940153-46b3-4324-fc07-07267d3ee154"
      },
      "source": [
        "feat_importances = pd.Series(model.feature_importances_ , index = X.columns)\n",
        "feat_importances.nlargest(10).plot(kind = 'barh')\n",
        "plt.show()"
      ],
      "execution_count": 29,
      "outputs": [
        {
          "output_type": "display_data",
          "data": {
            "image/png": "[encoded data removed]",
            "text/plain": [
              "<Figure size 432x288 with 1 Axes>"
            ]
          },
          "metadata": {
            "tags": [],
            "needs_background": "light"
          }
        }
      ]
    },
    {
      "cell_type": "markdown",
      "metadata": {
        "id": "MP-nwXznLV8v"
      },
      "source": [
        "# **Train Test Splite**"
      ]
    },
    {
      "cell_type": "code",
      "metadata": {
        "id": "5GJb792pKUlu"
      },
      "source": [
        "from sklearn.model_selection import train_test_split\n",
        "X_train, X_test, y_train, y_test = train_test_split(X, y, test_size = 0.1, random_state = 1)"
      ],
      "execution_count": 30,
      "outputs": []
    },
    {
      "cell_type": "code",
      "metadata": {
        "colab": {
          "base_uri": "https://localhost:8080/"
        },
        "id": "aT4dHEEAKkF9",
        "outputId": "6d070645-bd2b-408c-c684-ba7ef581f5f2"
      },
      "source": [
        "X_train.shape"
      ],
      "execution_count": 31,
      "outputs": [
        {
          "output_type": "execute_result",
          "data": {
            "text/plain": [
              "(3906, 10)"
            ]
          },
          "metadata": {
            "tags": []
          },
          "execution_count": 31
        }
      ]
    },
    {
      "cell_type": "code",
      "metadata": {
        "colab": {
          "base_uri": "https://localhost:8080/"
        },
        "id": "u1WuopPvKnUL",
        "outputId": "b2baf8da-0cfe-406c-ac7a-c274dd2a710f"
      },
      "source": [
        "X_test.shape"
      ],
      "execution_count": 32,
      "outputs": [
        {
          "output_type": "execute_result",
          "data": {
            "text/plain": [
              "(434, 10)"
            ]
          },
          "metadata": {
            "tags": []
          },
          "execution_count": 32
        }
      ]
    },
    {
      "cell_type": "code",
      "metadata": {
        "colab": {
          "base_uri": "https://localhost:8080/"
        },
        "id": "sdS3cJ02Koyi",
        "outputId": "1258df87-e970-46b0-920c-38429a05234b"
      },
      "source": [
        "from sklearn.ensemble import RandomForestRegressor\n",
        "regressor = RandomForestRegressor(bootstrap=True, ccp_alpha=0.0, criterion='mse',\n",
        "                      max_depth=100, max_features='sqrt', max_leaf_nodes=None,\n",
        "                      max_samples=None, min_impurity_decrease=0.0,\n",
        "                      min_impurity_split=None, min_samples_leaf=2,\n",
        "                      min_samples_split=2, min_weight_fraction_leaf=0.0,\n",
        "                      n_estimators=1000, n_jobs=None, oob_score=False,\n",
        "                      random_state=0, verbose=0, warm_start=False)\n",
        "regressor.fit(X_train, y_train)"
      ],
      "execution_count": 50,
      "outputs": [
        {
          "output_type": "execute_result",
          "data": {
            "text/plain": [
              "RandomForestRegressor(bootstrap=True, ccp_alpha=0.0, criterion='mse',\n",
              "                      max_depth=100, max_features='sqrt', max_leaf_nodes=None,\n",
              "                      max_samples=None, min_impurity_decrease=0.0,\n",
              "                      min_impurity_split=None, min_samples_leaf=2,\n",
              "                      min_samples_split=2, min_weight_fraction_leaf=0.0,\n",
              "                      n_estimators=1000, n_jobs=None, oob_score=False,\n",
              "                      random_state=0, verbose=0, warm_start=False)"
            ]
          },
          "metadata": {
            "tags": []
          },
          "execution_count": 50
        }
      ]
    },
    {
      "cell_type": "code",
      "metadata": {
        "colab": {
          "base_uri": "https://localhost:8080/"
        },
        "id": "0QRnZDh_LCAC",
        "outputId": "4a7b399d-3d5c-4c0c-97a1-46595c001eaa"
      },
      "source": [
        "prediction = regressor.predict(X_test)\n",
        "prediction"
      ],
      "execution_count": 51,
      "outputs": [
        {
          "output_type": "execute_result",
          "data": {
            "text/plain": [
              "array([ 945150.51783388,  561875.0810019 ,  326255.04738361,\n",
              "        286230.00245913,  440365.66996451,  174273.68978027,\n",
              "        653549.69958114,  211175.13117801,  552689.54598281,\n",
              "        329298.52254536,  827275.12404551,  280722.7704617 ,\n",
              "        676631.1038248 ,  145913.7024919 ,   86928.06006476,\n",
              "        254315.72437986,  276973.12155862,  479932.22209722,\n",
              "        296752.54754868,  652276.67649302,  298870.54645593,\n",
              "        546707.27290127,  145086.49945815,  439969.96947708,\n",
              "        685916.26636474,  275161.32632249,  534120.83141977,\n",
              "        458636.94564452,  626768.644494  ,  258828.74739226,\n",
              "        741684.90594996,  120222.32981249,  436012.99960397,\n",
              "        812539.19955871,  520343.84980113,  419518.93292164,\n",
              "        308467.5107561 ,  293893.20418246,  280311.68522003,\n",
              "        441409.87424669,  245242.37894652,  211100.73143351,\n",
              "        121084.88550092,  233850.190348  ,  426997.51380509,\n",
              "        754473.20835304,  662070.61113969,  241997.95322096,\n",
              "        300988.58960737,  183977.85435309,  535653.90275803,\n",
              "        906448.61174933,  263116.79916882,   95973.84510101,\n",
              "        336729.42285995,  635001.62054817,  134068.71165069,\n",
              "        833888.53377228,  494281.97337386,  432328.2662125 ,\n",
              "       1429865.55559431,  394224.95611846,  409931.3952504 ,\n",
              "         81907.78309263,  572593.41142689,  619831.63640491,\n",
              "        117521.67986841,  376487.53506929,  298739.41887383,\n",
              "        246689.22614607,  534247.04960676,  482650.27095438,\n",
              "       1688679.49930324,  422063.20181987,  566937.87799641,\n",
              "         83300.52945474,  270568.51862294,  533355.92713176,\n",
              "        431207.29608677,  645279.91992373,  362757.96399977,\n",
              "        158370.75035115,   79303.54504905,  699027.94307025,\n",
              "        233027.51225019, 1497382.94302501,  995827.69803249,\n",
              "        257488.10438175,  781113.97414477, 4339964.73480749,\n",
              "        541538.51152987,  407556.65454195,  727324.45425335,\n",
              "        260918.31867952,  679932.29833062,  852282.90511126,\n",
              "        410741.48071401,  626336.40857859,  494281.97337386,\n",
              "        140735.7990009 ,  152179.12338436,  507117.30833604,\n",
              "        530740.06012786,  386479.37212311,  433518.68935821,\n",
              "        356197.53536121,  827117.10068484,  175253.83655628,\n",
              "        164277.13955769,  559589.25485033,  214035.18412028,\n",
              "        609468.76107665,  464895.53694681,  402941.88466203,\n",
              "        452168.93151608,  370010.5845095 ,  210337.71573743,\n",
              "        296618.57589673,  640861.35796619,  127681.6627258 ,\n",
              "        914573.21701046,  144317.81281511,  380583.75246514,\n",
              "        153146.73886713,  671818.09449272,  664106.52439817,\n",
              "        613714.00510002,  820037.52899167,  974507.12756287,\n",
              "       1583861.78936937,  676631.1038248 ,  161453.38171763,\n",
              "        631623.47996847,  314863.12597446,  326255.04738361,\n",
              "        182900.85773355,   84202.51106219,  473847.90109953,\n",
              "        647710.71434022,  187626.19094782, 1625089.83987184,\n",
              "        394924.71776849,  836583.3121046 ,  293514.12542116,\n",
              "        576299.16268472,  187626.19094782,  538866.76076936,\n",
              "        506868.19674667,  434448.45438036,  326682.56577607,\n",
              "        323332.5371166 ,  399995.57008219,   98301.64133906,\n",
              "         89501.12143766,  506718.50384268,  220009.29259301,\n",
              "        241303.95247252,  412048.6548086 ,  635001.62054817,\n",
              "        123678.8397038 ,  529196.45075048,  340899.5797098 ,\n",
              "        179365.913146  ,  945150.51783388,  116486.75848649,\n",
              "        342962.31392606,  499372.47369744,  370400.49672621,\n",
              "        531398.21396111,  226480.23259019,  812539.19955871,\n",
              "        186378.92152594,  291993.64141931,  494281.97337386,\n",
              "        688571.67436501,   96046.58837985,  426826.31107972,\n",
              "        184429.51142626,  370400.49672621,  227167.66948125,\n",
              "       1018627.91711681, 1073419.90505829,  115070.3904117 ,\n",
              "        113321.89598348, 1682785.48179438,  357502.65964728,\n",
              "        626155.2888946 , 1358037.46446534,  549396.48308328,\n",
              "        207938.38287745,  190981.46201442,  413017.65461145,\n",
              "        595160.07534345,  633217.55235686,   92694.93730835,\n",
              "        383001.64907946,  548675.37976466,  115633.82030086,\n",
              "        546678.10839949,  741880.05887461,  586659.03563904,\n",
              "        105756.87554929,  620409.9925462 ,  134126.59217375,\n",
              "        215942.30317455,  324964.50206015,  348705.67330402,\n",
              "        550773.42194019,  618487.36631038,  533457.4960297 ,\n",
              "        600616.86339263,   79852.79002303,  479192.35233737,\n",
              "        223694.72036637,  516760.88178855,  642064.59076755,\n",
              "       1891797.41008585,  671818.09449272,  262363.5362311 ,\n",
              "        370400.49672621,  311894.21770684,  621537.9458029 ,\n",
              "        132745.51030608,  245520.52753258,  407556.65454195,\n",
              "        819213.15788921,  132531.49320604,  383001.64907946,\n",
              "        271532.78207642,  349782.31885656,  615429.88534031,\n",
              "        643391.08047136,  268157.62666949,  589874.04839047,\n",
              "       2267555.33072013,  193142.16387469,  418983.82666741,\n",
              "        511324.76286719,  330104.91974887,  404207.81593665,\n",
              "        164446.07545479,  898188.83036993,  115364.96163901,\n",
              "        282181.01487472,  653549.69958114,   94840.910236  ,\n",
              "        571642.92477334,  647710.71434022,  569687.57695209,\n",
              "        398030.95440715,  402328.18455641, 2140921.23566176,\n",
              "        161280.46341971,  805302.50229237,  297389.37919618,\n",
              "        505729.00519052,  543250.24739404,  256036.05226336,\n",
              "        612807.3038223 ,  537452.91744964,  158177.35974548,\n",
              "        225829.4914103 ,  548404.55268135,   94363.57697317,\n",
              "        415010.41262761,   88048.6526985 ,  604380.82964256,\n",
              "        503699.66483657,  968531.60657417,  113707.96208646,\n",
              "        152928.50680981,  777433.31640271,  284389.7905452 ,\n",
              "        812539.19955871,  355186.15384221,  265528.29103447,\n",
              "        385894.76256463,  274941.58373371,  115633.82030086,\n",
              "        535464.23454196,  435170.54732763,  263116.79916882,\n",
              "        620626.04961428,  909513.3624627 ,  406089.13790653,\n",
              "        251996.53277695,  299849.59173   ,  327256.10676535,\n",
              "        186378.92152594,  186057.57794646,  620626.04961428,\n",
              "        542785.51590366,  441597.66740701,  522001.19613707,\n",
              "        647710.71434022,  184108.59036126,  495620.41526716,\n",
              "         75281.28758363,  174273.68978027,  754473.20835304,\n",
              "        232258.86089788,  251996.53277695,  671818.09449272,\n",
              "        502829.14135141,  561086.4255445 ,  530569.05066085,\n",
              "        683170.50872168,  853022.44315111,  124678.38000967,\n",
              "       1713709.7293936 ,  597078.3901569 ,  448285.18807448,\n",
              "        133158.04985189,  401742.99961175,  217925.67206136,\n",
              "        260918.31867952,  427303.61486531,  446173.08665188,\n",
              "        667020.65537841,   74395.58680997,  576299.16268472,\n",
              "        126366.14572031,  401742.99961175,  153463.08963834,\n",
              "        114312.93703827,  621537.9458029 ,  268432.07453194,\n",
              "        662726.58351876,  292712.90535334,   96046.58837985,\n",
              "        619831.63640491,  498381.11255067,  293283.19143562,\n",
              "        741684.90594996,  232770.30110514,  432046.31059344,\n",
              "        344814.77153443,  476308.38959069,  576299.16268472,\n",
              "        275161.32632249, 1408256.6538842 ,  524168.7577928 ,\n",
              "        264235.06783869,  434448.45438036,  252738.15906871,\n",
              "        664768.62137737,  638433.73336557,  394776.05382688,\n",
              "        866903.83203744,  356197.53536121,  294228.02714157,\n",
              "        214920.47544924,  612034.30913779,  692093.48306467,\n",
              "        370010.5845095 ,  255035.679575  ,  315896.4935602 ,\n",
              "        312410.13891819,  283717.0686769 ,  130938.64955403,\n",
              "        240827.92817307,  488321.89777945,  564469.71675922,\n",
              "        285360.57327853,  326038.96340429,  328434.90951348,\n",
              "        635001.62054817,  501188.05939956,  263115.2149702 ,\n",
              "        102398.92686333,  866903.83203744,  511690.3966232 ,\n",
              "        299249.00367567, 2112670.49461587,  440805.74356676,\n",
              "        631623.47996847,  225321.23838809,  522001.19613707,\n",
              "        548675.37976466,  528527.76063176,  384507.08194235,\n",
              "        531299.42605787,  180807.415517  ,  263114.05216003,\n",
              "        255035.679575  ,  118393.40970301,  623038.32063993,\n",
              "        255912.29605163,  533457.4960297 ,  602476.04888441,\n",
              "        385894.76256463,  271577.8216294 ,  665985.37920953,\n",
              "        314863.12597446,  258365.18468553,  564878.73992797,\n",
              "        735675.52835618,  207956.35363495,  410741.48071401,\n",
              "       4339964.73480749,  273977.17133679,  191325.74883869,\n",
              "        385155.93106086, 2140921.23566176, 1486410.82184738,\n",
              "        117295.41782642,  951625.27287278,  482650.27095438,\n",
              "        619831.63640491,  739284.13537018,  328622.75442128,\n",
              "       3535045.20461837,  329989.22231246,  277296.72623361,\n",
              "        346180.14771814,  283848.36276725,  561875.0810019 ,\n",
              "        271729.70511281,  374343.45610774,  179365.913146  ,\n",
              "        289758.30691036,  328051.97760006,  368430.43939684,\n",
              "        317255.20960731,  152928.50680981,  774979.31581017,\n",
              "        105756.87554929,  284563.8241448 ,  330933.78654521,\n",
              "        240827.92817307,  677544.03784288, 1497382.94302501,\n",
              "        491324.61914952,  479932.22209722])"
            ]
          },
          "metadata": {
            "tags": []
          },
          "execution_count": 51
        }
      ]
    },
    {
      "cell_type": "code",
      "metadata": {
        "colab": {
          "base_uri": "https://localhost:8080/",
          "height": 362
        },
        "id": "9zPGmu4RLEVx",
        "outputId": "54f97663-3c51-4581-9d32-4a2518ac4b07"
      },
      "source": [
        "sns.distplot(y_test-prediction)"
      ],
      "execution_count": 52,
      "outputs": [
        {
          "output_type": "stream",
          "text": [
            "/usr/local/lib/python3.7/dist-packages/seaborn/distributions.py:2557: FutureWarning: `distplot` is a deprecated function and will be removed in a future version. Please adapt your code to use either `displot` (a figure-level function with similar flexibility) or `histplot` (an axes-level function for histograms).\n",
            "  warnings.warn(msg, FutureWarning)\n"
          ],
          "name": "stderr"
        },
        {
          "output_type": "execute_result",
          "data": {
            "text/plain": [
              "<matplotlib.axes._subplots.AxesSubplot at 0x7f6e255e34d0>"
            ]
          },
          "metadata": {
            "tags": []
          },
          "execution_count": 52
        },
        {
          "output_type": "display_data",
          "data": {
            "image/png": "[encoded data removed]",
            "text/plain": [
              "<Figure size 432x288 with 1 Axes>"
            ]
          },
          "metadata": {
            "tags": [],
            "needs_background": "light"
          }
        }
      ]
    },
    {
      "cell_type": "code",
      "metadata": {
        "colab": {
          "base_uri": "https://localhost:8080/",
          "height": 306
        },
        "id": "z-FvOFiuLH6N",
        "outputId": "d72b6e94-1f01-487b-ba64-789281a5aa24"
      },
      "source": [
        "plt.scatter(y_test,prediction)"
      ],
      "execution_count": 53,
      "outputs": [
        {
          "output_type": "execute_result",
          "data": {
            "text/plain": [
              "<matplotlib.collections.PathCollection at 0x7f6e28092a90>"
            ]
          },
          "metadata": {
            "tags": []
          },
          "execution_count": 53
        },
        {
          "output_type": "display_data",
          "data": {
            "image/png": "[encoded data removed]",
            "text/plain": [
              "<Figure size 432x288 with 1 Axes>"
            ]
          },
          "metadata": {
            "tags": [],
            "needs_background": "light"
          }
        }
      ]
    },
    {
      "cell_type": "code",
      "metadata": {
        "id": "80-budq9LJ87"
      },
      "source": [
        "y_pred = regressor.predict(X_test)"
      ],
      "execution_count": 54,
      "outputs": []
    },
    {
      "cell_type": "code",
      "metadata": {
        "colab": {
          "base_uri": "https://localhost:8080/"
        },
        "id": "j_9tkZKZLPtf",
        "outputId": "accb4e3d-8813-44d2-9cd2-2625060a1650"
      },
      "source": [
        "from sklearn.metrics import r2_score\n",
        "r2_score(y_test, y_pred)"
      ],
      "execution_count": 55,
      "outputs": [
        {
          "output_type": "execute_result",
          "data": {
            "text/plain": [
              "0.8338931885938933"
            ]
          },
          "metadata": {
            "tags": []
          },
          "execution_count": 55
        }
      ]
    },
    {
      "cell_type": "code",
      "metadata": {
        "id": "OBergdQPjEij"
      },
      "source": [
        "import pickle\n",
        "\n",
        "file = open('c_p_p.pkl', 'wb')\n",
        "\n",
        "pickle.dump(regressor, file)"
      ],
      "execution_count": 57,
      "outputs": []
    }
  ]
}